{
 "cells": [
  {
   "cell_type": "code",
   "execution_count": null,
   "metadata": {},
   "outputs": [],
   "source": [
    "!pip install -r requirements.txt"
   ]
  },
  {
   "cell_type": "code",
   "execution_count": 1,
   "metadata": {},
   "outputs": [],
   "source": [
    "import warnings\n",
    "import pandas as pd\n",
    "import seaborn as sns\n",
    "import matplotlib.pyplot as plt\n",
    "from sklearn.metrics import accuracy_score\n",
    "from sklearn.ensemble import RandomForestClassifier\n",
    "from sklearn.model_selection import train_test_split\n",
    "warnings.filterwarnings('ignore')\n",
    "\n",
    "# Load in data\n",
    "gps_data = pd.read_csv('GPS_data.csv')\n",
    "shipment_bookings = pd.read_csv('Shipment_bookings.csv')\n",
    "new_bookings = pd.read_csv('New_bookings.csv')"
   ]
  },
  {
   "cell_type": "markdown",
   "metadata": {},
   "source": [
    "# Task 1:\n",
    "\n",
    "Operational teams rely heavily on KPIs like on-time collection and on-time delivery to gauge carrier performance. \n",
    "\n",
    "What percentage of shipments met the on-time delivery threshold (arriving no later than 30 minutes past the scheduled delivery window) between October 1st and December 31st, 2023? \n",
    "\n",
    "Please outline your assumptions.\n",
    "\n",
    "### Assumptions: \n",
    "1. The first and last chronological entry per gps data is the first collection and last delivery of the shipment, respectively. There doesn't appear to be matching latitude and longitude exactly, so we can't match based on these. \n",
    "2. We're taking any shipment that had it's FIRST_COLLECTION_SCHEDULE_EARLIEST in the given date range, which appears to be contained in the first data set, and none of the new_bookings. \n",
    "3. The data contains the correct shipment and corresponding shipment numbers across the datasets."
   ]
  },
  {
   "cell_type": "markdown",
   "metadata": {},
   "source": [
    "### 1.1 Find date range of datasets"
   ]
  },
  {
   "cell_type": "code",
   "execution_count": 2,
   "metadata": {},
   "outputs": [
    {
     "name": "stdout",
     "output_type": "stream",
     "text": [
      "Shipment bookings csv:\n",
      "Earliest Shipment: 2023-09-29T14:00:00.000Z Latest Shipment: 2023-12-31T00:30:00.000Z\n"
     ]
    }
   ],
   "source": [
    "earliest_datetime = shipment_bookings['FIRST_COLLECTION_SCHEDULE_EARLIEST'].min()\n",
    "latest_datetime = shipment_bookings['FIRST_COLLECTION_SCHEDULE_EARLIEST'].max()\n",
    "print(\"Shipment bookings csv:\")\n",
    "print(\"Earliest Shipment:\", earliest_datetime, \"Latest Shipment:\", latest_datetime)\n"
   ]
  },
  {
   "cell_type": "code",
   "execution_count": 3,
   "metadata": {},
   "outputs": [
    {
     "name": "stdout",
     "output_type": "stream",
     "text": [
      "New Booking csv:\n",
      "Earliest Shipment: 2024-01-09T12:00:00.000Z Latest Shipment: 2024-01-20T23:45:00.000Z\n"
     ]
    }
   ],
   "source": [
    "earliest_datetime = new_bookings['FIRST_COLLECTION_SCHEDULE_EARLIEST'].min()\n",
    "latest_datetime = new_bookings['FIRST_COLLECTION_SCHEDULE_EARLIEST'].max()\n",
    "print(\"New Booking csv:\")\n",
    "print(\"Earliest Shipment:\", earliest_datetime, \"Latest Shipment:\", latest_datetime)\n"
   ]
  },
  {
   "cell_type": "code",
   "execution_count": 4,
   "metadata": {},
   "outputs": [
    {
     "name": "stdout",
     "output_type": "stream",
     "text": [
      "New df, from Oct - Dec 2023:\n",
      "Earliest Shipment: 2023-10-01 00:30:00+00:00 Latest Shipment: 2023-12-31 00:30:00+00:00\n"
     ]
    }
   ],
   "source": [
    "# Filter to only desired dates\n",
    "# Ensure the column is in datetime format\n",
    "shipment_bookings['FIRST_COLLECTION_SCHEDULE_EARLIEST'] = pd.to_datetime(shipment_bookings['FIRST_COLLECTION_SCHEDULE_EARLIEST'])\n",
    "\n",
    "# Define the start of October in the same timezone\n",
    "start_of_october = pd.Timestamp('2023-10-01', tz='UTC')\n",
    "\n",
    "# Filter the dataframe to include only dates from October onwards\n",
    "df = shipment_bookings[shipment_bookings['FIRST_COLLECTION_SCHEDULE_EARLIEST'] >= start_of_october]\n",
    "\n",
    "earliest_datetime = df['FIRST_COLLECTION_SCHEDULE_EARLIEST'].min()\n",
    "latest_datetime = df['FIRST_COLLECTION_SCHEDULE_EARLIEST'].max()\n",
    "print(\"New df, from Oct - Dec 2023:\")\n",
    "print(\"Earliest Shipment:\", earliest_datetime, \"Latest Shipment:\", latest_datetime)"
   ]
  },
  {
   "cell_type": "markdown",
   "metadata": {},
   "source": [
    "### 1.2 Convert first and last GPS timestamps to collection and delivery times"
   ]
  },
  {
   "cell_type": "code",
   "execution_count": 5,
   "metadata": {},
   "outputs": [],
   "source": [
    "grouped_gps_data = gps_data.groupby('SHIPMENT_NUMBER')['RECORD_TIMESTAMP'] # group them into order (may not be necessary)\n",
    "\n",
    "new_gps_data = pd.DataFrame({\n",
    "    'FIRST_COLLECTION': grouped_gps_data.min(), \n",
    "    'LAST_DELIVERY': grouped_gps_data.max()\n",
    "}).reset_index()"
   ]
  },
  {
   "cell_type": "code",
   "execution_count": 6,
   "metadata": {},
   "outputs": [
    {
     "data": {
      "text/html": [
       "<div>\n",
       "<style scoped>\n",
       "    .dataframe tbody tr th:only-of-type {\n",
       "        vertical-align: middle;\n",
       "    }\n",
       "\n",
       "    .dataframe tbody tr th {\n",
       "        vertical-align: top;\n",
       "    }\n",
       "\n",
       "    .dataframe thead th {\n",
       "        text-align: right;\n",
       "    }\n",
       "</style>\n",
       "<table border=\"1\" class=\"dataframe\">\n",
       "  <thead>\n",
       "    <tr style=\"text-align: right;\">\n",
       "      <th></th>\n",
       "      <th>SHIPMENT_NUMBER</th>\n",
       "      <th>FIRST_COLLECTION</th>\n",
       "      <th>LAST_DELIVERY</th>\n",
       "    </tr>\n",
       "  </thead>\n",
       "  <tbody>\n",
       "    <tr>\n",
       "      <th>0</th>\n",
       "      <td>SEZHUK-230918-245388</td>\n",
       "      <td>2023-10-09T19:25:00.000+0100</td>\n",
       "      <td>2023-10-11T11:50:00.000+0100</td>\n",
       "    </tr>\n",
       "    <tr>\n",
       "      <th>1</th>\n",
       "      <td>SEZHUK-230919-245487</td>\n",
       "      <td>2023-11-30T11:42:00.000Z</td>\n",
       "      <td>2023-11-30T15:59:00.000Z</td>\n",
       "    </tr>\n",
       "    <tr>\n",
       "      <th>2</th>\n",
       "      <td>SEZHUK-230919-245488</td>\n",
       "      <td>2023-10-12T08:38:00.000+0100</td>\n",
       "      <td>2023-10-12T13:08:00.000+0100</td>\n",
       "    </tr>\n",
       "    <tr>\n",
       "      <th>3</th>\n",
       "      <td>SEZHUK-230919-245489</td>\n",
       "      <td>2023-11-09T12:21:00.000Z</td>\n",
       "      <td>2023-11-09T17:51:00.000Z</td>\n",
       "    </tr>\n",
       "    <tr>\n",
       "      <th>4</th>\n",
       "      <td>SEZHUK-230919-245490</td>\n",
       "      <td>2023-11-02T11:44:00.000Z</td>\n",
       "      <td>2023-11-02T16:29:00.000Z</td>\n",
       "    </tr>\n",
       "  </tbody>\n",
       "</table>\n",
       "</div>"
      ],
      "text/plain": [
       "        SHIPMENT_NUMBER              FIRST_COLLECTION  \\\n",
       "0  SEZHUK-230918-245388  2023-10-09T19:25:00.000+0100   \n",
       "1  SEZHUK-230919-245487      2023-11-30T11:42:00.000Z   \n",
       "2  SEZHUK-230919-245488  2023-10-12T08:38:00.000+0100   \n",
       "3  SEZHUK-230919-245489      2023-11-09T12:21:00.000Z   \n",
       "4  SEZHUK-230919-245490      2023-11-02T11:44:00.000Z   \n",
       "\n",
       "                  LAST_DELIVERY  \n",
       "0  2023-10-11T11:50:00.000+0100  \n",
       "1      2023-11-30T15:59:00.000Z  \n",
       "2  2023-10-12T13:08:00.000+0100  \n",
       "3      2023-11-09T17:51:00.000Z  \n",
       "4      2023-11-02T16:29:00.000Z  "
      ]
     },
     "execution_count": 6,
     "metadata": {},
     "output_type": "execute_result"
    }
   ],
   "source": [
    "# To visualise what we've created\n",
    "new_gps_data.head()"
   ]
  },
  {
   "cell_type": "markdown",
   "metadata": {},
   "source": [
    "### 1.3 Merge datasets"
   ]
  },
  {
   "cell_type": "code",
   "execution_count": 7,
   "metadata": {},
   "outputs": [],
   "source": [
    "# left merge so any SHIPMENT NUMBERS we deleted from outside the Oct-Dec window are excluded.\n",
    "merged_df = df.merge(new_gps_data, on='SHIPMENT_NUMBER', how='left')"
   ]
  },
  {
   "cell_type": "code",
   "execution_count": 8,
   "metadata": {},
   "outputs": [
    {
     "data": {
      "text/html": [
       "<div>\n",
       "<style scoped>\n",
       "    .dataframe tbody tr th:only-of-type {\n",
       "        vertical-align: middle;\n",
       "    }\n",
       "\n",
       "    .dataframe tbody tr th {\n",
       "        vertical-align: top;\n",
       "    }\n",
       "\n",
       "    .dataframe thead th {\n",
       "        text-align: right;\n",
       "    }\n",
       "</style>\n",
       "<table border=\"1\" class=\"dataframe\">\n",
       "  <thead>\n",
       "    <tr style=\"text-align: right;\">\n",
       "      <th></th>\n",
       "      <th>PROJECT_ID</th>\n",
       "      <th>SHIPMENT_NUMBER</th>\n",
       "      <th>CARRIER_DISPLAY_ID</th>\n",
       "      <th>VEHICLE_SIZE</th>\n",
       "      <th>VEHICLE_BUILD_UP</th>\n",
       "      <th>FIRST_COLLECTION_POST_CODE</th>\n",
       "      <th>LAST_DELIVERY_POST_CODE</th>\n",
       "      <th>FIRST_COLLECTION_LATITUDE</th>\n",
       "      <th>FIRST_COLLECTION_LONGITUDE</th>\n",
       "      <th>LAST_DELIVERY_LATITUDE</th>\n",
       "      <th>LAST_DELIVERY_LONGITUDE</th>\n",
       "      <th>FIRST_COLLECTION_SCHEDULE_EARLIEST</th>\n",
       "      <th>FIRST_COLLECTION_SCHEDULE_LATEST</th>\n",
       "      <th>LAST_DELIVERY_SCHEDULE_EARLIEST</th>\n",
       "      <th>LAST_DELIVERY_SCHEDULE_LATEST</th>\n",
       "      <th>FIRST_COLLECTION</th>\n",
       "      <th>LAST_DELIVERY</th>\n",
       "    </tr>\n",
       "  </thead>\n",
       "  <tbody>\n",
       "    <tr>\n",
       "      <th>0</th>\n",
       "      <td>5456fcfa-5b0c-428e-b322-240d508b6660</td>\n",
       "      <td>SEZHUK-231005-250448</td>\n",
       "      <td>CAUK000096</td>\n",
       "      <td>Tractor Unit</td>\n",
       "      <td>Curtain-Side 13.6M Trailer</td>\n",
       "      <td>PE29 2XR</td>\n",
       "      <td>EH48 2FB</td>\n",
       "      <td>52.315672</td>\n",
       "      <td>-0.157664</td>\n",
       "      <td>55.877803</td>\n",
       "      <td>-3.648558</td>\n",
       "      <td>2023-10-06 09:45:00+00:00</td>\n",
       "      <td>2023-10-06T10:00:00.000Z</td>\n",
       "      <td>2023-10-09T09:55:00.000Z</td>\n",
       "      <td>2023-10-09T10:25:00.000Z</td>\n",
       "      <td>2023-10-06T09:58:00.000+0100</td>\n",
       "      <td>2023-10-06T10:24:00.000+0100</td>\n",
       "    </tr>\n",
       "    <tr>\n",
       "      <th>1</th>\n",
       "      <td>eb7a9df0-4875-43d8-9060-c79c35eae2fb</td>\n",
       "      <td>SEZHUK-231217-275004</td>\n",
       "      <td>CAUK000660</td>\n",
       "      <td>Tractor Unit</td>\n",
       "      <td>Box 44ft</td>\n",
       "      <td>BD5 8LZ</td>\n",
       "      <td>RG19 4BQ</td>\n",
       "      <td>53.764125</td>\n",
       "      <td>-1.740145</td>\n",
       "      <td>51.398851</td>\n",
       "      <td>-1.231993</td>\n",
       "      <td>2023-12-19 14:20:00+00:00</td>\n",
       "      <td>2023-12-19T16:00:00.000Z</td>\n",
       "      <td>2023-12-20T06:00:00.000Z</td>\n",
       "      <td>2023-12-20T08:56:00.000Z</td>\n",
       "      <td>2023-12-19T15:47:00.000Z</td>\n",
       "      <td>2023-12-20T04:08:00.000Z</td>\n",
       "    </tr>\n",
       "    <tr>\n",
       "      <th>2</th>\n",
       "      <td>eb7a9df0-4875-43d8-9060-c79c35eae2fb</td>\n",
       "      <td>SEZHUK-231210-272018</td>\n",
       "      <td>CAUK000435</td>\n",
       "      <td>Tractor Unit</td>\n",
       "      <td>Box 44ft</td>\n",
       "      <td>BD5 8LZ</td>\n",
       "      <td>EN3 7QP</td>\n",
       "      <td>53.767302</td>\n",
       "      <td>-1.746560</td>\n",
       "      <td>51.660700</td>\n",
       "      <td>-0.022247</td>\n",
       "      <td>2023-12-14 01:20:00+00:00</td>\n",
       "      <td>2023-12-14T03:00:00.000Z</td>\n",
       "      <td>2023-12-14T07:03:00.000Z</td>\n",
       "      <td>2023-12-14T10:43:00.000Z</td>\n",
       "      <td>2023-12-13T20:51:00.000Z</td>\n",
       "      <td>2023-12-14T10:18:00.000Z</td>\n",
       "    </tr>\n",
       "  </tbody>\n",
       "</table>\n",
       "</div>"
      ],
      "text/plain": [
       "                             PROJECT_ID       SHIPMENT_NUMBER  \\\n",
       "0  5456fcfa-5b0c-428e-b322-240d508b6660  SEZHUK-231005-250448   \n",
       "1  eb7a9df0-4875-43d8-9060-c79c35eae2fb  SEZHUK-231217-275004   \n",
       "2  eb7a9df0-4875-43d8-9060-c79c35eae2fb  SEZHUK-231210-272018   \n",
       "\n",
       "  CARRIER_DISPLAY_ID  VEHICLE_SIZE            VEHICLE_BUILD_UP  \\\n",
       "0         CAUK000096  Tractor Unit  Curtain-Side 13.6M Trailer   \n",
       "1         CAUK000660  Tractor Unit                    Box 44ft   \n",
       "2         CAUK000435  Tractor Unit                    Box 44ft   \n",
       "\n",
       "  FIRST_COLLECTION_POST_CODE LAST_DELIVERY_POST_CODE  \\\n",
       "0                   PE29 2XR                EH48 2FB   \n",
       "1                    BD5 8LZ                RG19 4BQ   \n",
       "2                    BD5 8LZ                 EN3 7QP   \n",
       "\n",
       "   FIRST_COLLECTION_LATITUDE  FIRST_COLLECTION_LONGITUDE  \\\n",
       "0                  52.315672                   -0.157664   \n",
       "1                  53.764125                   -1.740145   \n",
       "2                  53.767302                   -1.746560   \n",
       "\n",
       "   LAST_DELIVERY_LATITUDE  LAST_DELIVERY_LONGITUDE  \\\n",
       "0               55.877803                -3.648558   \n",
       "1               51.398851                -1.231993   \n",
       "2               51.660700                -0.022247   \n",
       "\n",
       "  FIRST_COLLECTION_SCHEDULE_EARLIEST FIRST_COLLECTION_SCHEDULE_LATEST  \\\n",
       "0          2023-10-06 09:45:00+00:00         2023-10-06T10:00:00.000Z   \n",
       "1          2023-12-19 14:20:00+00:00         2023-12-19T16:00:00.000Z   \n",
       "2          2023-12-14 01:20:00+00:00         2023-12-14T03:00:00.000Z   \n",
       "\n",
       "  LAST_DELIVERY_SCHEDULE_EARLIEST LAST_DELIVERY_SCHEDULE_LATEST  \\\n",
       "0        2023-10-09T09:55:00.000Z      2023-10-09T10:25:00.000Z   \n",
       "1        2023-12-20T06:00:00.000Z      2023-12-20T08:56:00.000Z   \n",
       "2        2023-12-14T07:03:00.000Z      2023-12-14T10:43:00.000Z   \n",
       "\n",
       "               FIRST_COLLECTION                 LAST_DELIVERY  \n",
       "0  2023-10-06T09:58:00.000+0100  2023-10-06T10:24:00.000+0100  \n",
       "1      2023-12-19T15:47:00.000Z      2023-12-20T04:08:00.000Z  \n",
       "2      2023-12-13T20:51:00.000Z      2023-12-14T10:18:00.000Z  "
      ]
     },
     "execution_count": 8,
     "metadata": {},
     "output_type": "execute_result"
    }
   ],
   "source": [
    "merged_df.head(3)"
   ]
  },
  {
   "cell_type": "markdown",
   "metadata": {},
   "source": [
    "### 1.4 Add 30 minute cutoff window as per the task"
   ]
  },
  {
   "cell_type": "code",
   "execution_count": 9,
   "metadata": {},
   "outputs": [],
   "source": [
    "# convert the columns to datetime if they're not\n",
    "merged_df['FIRST_COLLECTION_SCHEDULE_LATEST'] = pd.to_datetime(merged_df['FIRST_COLLECTION_SCHEDULE_LATEST'])\n",
    "merged_df['LAST_DELIVERY_SCHEDULE_LATEST'] = pd.to_datetime(merged_df['LAST_DELIVERY_SCHEDULE_LATEST'])\n",
    "\n",
    "# add 30 minutes to the schedule times\n",
    "merged_df['COLLECTION_CUTOFF'] = merged_df['FIRST_COLLECTION_SCHEDULE_LATEST'] + pd.Timedelta(minutes=30)\n",
    "merged_df['DELIVERY_CUTOFF'] = merged_df['LAST_DELIVERY_SCHEDULE_LATEST'] + pd.Timedelta(minutes=30)"
   ]
  },
  {
   "cell_type": "code",
   "execution_count": 10,
   "metadata": {},
   "outputs": [
    {
     "data": {
      "text/html": [
       "<div>\n",
       "<style scoped>\n",
       "    .dataframe tbody tr th:only-of-type {\n",
       "        vertical-align: middle;\n",
       "    }\n",
       "\n",
       "    .dataframe tbody tr th {\n",
       "        vertical-align: top;\n",
       "    }\n",
       "\n",
       "    .dataframe thead th {\n",
       "        text-align: right;\n",
       "    }\n",
       "</style>\n",
       "<table border=\"1\" class=\"dataframe\">\n",
       "  <thead>\n",
       "    <tr style=\"text-align: right;\">\n",
       "      <th></th>\n",
       "      <th>PROJECT_ID</th>\n",
       "      <th>SHIPMENT_NUMBER</th>\n",
       "      <th>CARRIER_DISPLAY_ID</th>\n",
       "      <th>VEHICLE_SIZE</th>\n",
       "      <th>VEHICLE_BUILD_UP</th>\n",
       "      <th>FIRST_COLLECTION_POST_CODE</th>\n",
       "      <th>LAST_DELIVERY_POST_CODE</th>\n",
       "      <th>FIRST_COLLECTION_LATITUDE</th>\n",
       "      <th>FIRST_COLLECTION_LONGITUDE</th>\n",
       "      <th>LAST_DELIVERY_LATITUDE</th>\n",
       "      <th>LAST_DELIVERY_LONGITUDE</th>\n",
       "      <th>FIRST_COLLECTION_SCHEDULE_EARLIEST</th>\n",
       "      <th>FIRST_COLLECTION_SCHEDULE_LATEST</th>\n",
       "      <th>LAST_DELIVERY_SCHEDULE_EARLIEST</th>\n",
       "      <th>LAST_DELIVERY_SCHEDULE_LATEST</th>\n",
       "      <th>FIRST_COLLECTION</th>\n",
       "      <th>LAST_DELIVERY</th>\n",
       "      <th>COLLECTION_CUTOFF</th>\n",
       "      <th>DELIVERY_CUTOFF</th>\n",
       "    </tr>\n",
       "  </thead>\n",
       "  <tbody>\n",
       "    <tr>\n",
       "      <th>0</th>\n",
       "      <td>5456fcfa-5b0c-428e-b322-240d508b6660</td>\n",
       "      <td>SEZHUK-231005-250448</td>\n",
       "      <td>CAUK000096</td>\n",
       "      <td>Tractor Unit</td>\n",
       "      <td>Curtain-Side 13.6M Trailer</td>\n",
       "      <td>PE29 2XR</td>\n",
       "      <td>EH48 2FB</td>\n",
       "      <td>52.315672</td>\n",
       "      <td>-0.157664</td>\n",
       "      <td>55.877803</td>\n",
       "      <td>-3.648558</td>\n",
       "      <td>2023-10-06 09:45:00+00:00</td>\n",
       "      <td>2023-10-06 10:00:00+00:00</td>\n",
       "      <td>2023-10-09T09:55:00.000Z</td>\n",
       "      <td>2023-10-09 10:25:00+00:00</td>\n",
       "      <td>2023-10-06T09:58:00.000+0100</td>\n",
       "      <td>2023-10-06T10:24:00.000+0100</td>\n",
       "      <td>2023-10-06 10:30:00+00:00</td>\n",
       "      <td>2023-10-09 10:55:00+00:00</td>\n",
       "    </tr>\n",
       "    <tr>\n",
       "      <th>1</th>\n",
       "      <td>eb7a9df0-4875-43d8-9060-c79c35eae2fb</td>\n",
       "      <td>SEZHUK-231217-275004</td>\n",
       "      <td>CAUK000660</td>\n",
       "      <td>Tractor Unit</td>\n",
       "      <td>Box 44ft</td>\n",
       "      <td>BD5 8LZ</td>\n",
       "      <td>RG19 4BQ</td>\n",
       "      <td>53.764125</td>\n",
       "      <td>-1.740145</td>\n",
       "      <td>51.398851</td>\n",
       "      <td>-1.231993</td>\n",
       "      <td>2023-12-19 14:20:00+00:00</td>\n",
       "      <td>2023-12-19 16:00:00+00:00</td>\n",
       "      <td>2023-12-20T06:00:00.000Z</td>\n",
       "      <td>2023-12-20 08:56:00+00:00</td>\n",
       "      <td>2023-12-19T15:47:00.000Z</td>\n",
       "      <td>2023-12-20T04:08:00.000Z</td>\n",
       "      <td>2023-12-19 16:30:00+00:00</td>\n",
       "      <td>2023-12-20 09:26:00+00:00</td>\n",
       "    </tr>\n",
       "    <tr>\n",
       "      <th>2</th>\n",
       "      <td>eb7a9df0-4875-43d8-9060-c79c35eae2fb</td>\n",
       "      <td>SEZHUK-231210-272018</td>\n",
       "      <td>CAUK000435</td>\n",
       "      <td>Tractor Unit</td>\n",
       "      <td>Box 44ft</td>\n",
       "      <td>BD5 8LZ</td>\n",
       "      <td>EN3 7QP</td>\n",
       "      <td>53.767302</td>\n",
       "      <td>-1.746560</td>\n",
       "      <td>51.660700</td>\n",
       "      <td>-0.022247</td>\n",
       "      <td>2023-12-14 01:20:00+00:00</td>\n",
       "      <td>2023-12-14 03:00:00+00:00</td>\n",
       "      <td>2023-12-14T07:03:00.000Z</td>\n",
       "      <td>2023-12-14 10:43:00+00:00</td>\n",
       "      <td>2023-12-13T20:51:00.000Z</td>\n",
       "      <td>2023-12-14T10:18:00.000Z</td>\n",
       "      <td>2023-12-14 03:30:00+00:00</td>\n",
       "      <td>2023-12-14 11:13:00+00:00</td>\n",
       "    </tr>\n",
       "  </tbody>\n",
       "</table>\n",
       "</div>"
      ],
      "text/plain": [
       "                             PROJECT_ID       SHIPMENT_NUMBER  \\\n",
       "0  5456fcfa-5b0c-428e-b322-240d508b6660  SEZHUK-231005-250448   \n",
       "1  eb7a9df0-4875-43d8-9060-c79c35eae2fb  SEZHUK-231217-275004   \n",
       "2  eb7a9df0-4875-43d8-9060-c79c35eae2fb  SEZHUK-231210-272018   \n",
       "\n",
       "  CARRIER_DISPLAY_ID  VEHICLE_SIZE            VEHICLE_BUILD_UP  \\\n",
       "0         CAUK000096  Tractor Unit  Curtain-Side 13.6M Trailer   \n",
       "1         CAUK000660  Tractor Unit                    Box 44ft   \n",
       "2         CAUK000435  Tractor Unit                    Box 44ft   \n",
       "\n",
       "  FIRST_COLLECTION_POST_CODE LAST_DELIVERY_POST_CODE  \\\n",
       "0                   PE29 2XR                EH48 2FB   \n",
       "1                    BD5 8LZ                RG19 4BQ   \n",
       "2                    BD5 8LZ                 EN3 7QP   \n",
       "\n",
       "   FIRST_COLLECTION_LATITUDE  FIRST_COLLECTION_LONGITUDE  \\\n",
       "0                  52.315672                   -0.157664   \n",
       "1                  53.764125                   -1.740145   \n",
       "2                  53.767302                   -1.746560   \n",
       "\n",
       "   LAST_DELIVERY_LATITUDE  LAST_DELIVERY_LONGITUDE  \\\n",
       "0               55.877803                -3.648558   \n",
       "1               51.398851                -1.231993   \n",
       "2               51.660700                -0.022247   \n",
       "\n",
       "  FIRST_COLLECTION_SCHEDULE_EARLIEST FIRST_COLLECTION_SCHEDULE_LATEST  \\\n",
       "0          2023-10-06 09:45:00+00:00        2023-10-06 10:00:00+00:00   \n",
       "1          2023-12-19 14:20:00+00:00        2023-12-19 16:00:00+00:00   \n",
       "2          2023-12-14 01:20:00+00:00        2023-12-14 03:00:00+00:00   \n",
       "\n",
       "  LAST_DELIVERY_SCHEDULE_EARLIEST LAST_DELIVERY_SCHEDULE_LATEST  \\\n",
       "0        2023-10-09T09:55:00.000Z     2023-10-09 10:25:00+00:00   \n",
       "1        2023-12-20T06:00:00.000Z     2023-12-20 08:56:00+00:00   \n",
       "2        2023-12-14T07:03:00.000Z     2023-12-14 10:43:00+00:00   \n",
       "\n",
       "               FIRST_COLLECTION                 LAST_DELIVERY  \\\n",
       "0  2023-10-06T09:58:00.000+0100  2023-10-06T10:24:00.000+0100   \n",
       "1      2023-12-19T15:47:00.000Z      2023-12-20T04:08:00.000Z   \n",
       "2      2023-12-13T20:51:00.000Z      2023-12-14T10:18:00.000Z   \n",
       "\n",
       "          COLLECTION_CUTOFF           DELIVERY_CUTOFF  \n",
       "0 2023-10-06 10:30:00+00:00 2023-10-09 10:55:00+00:00  \n",
       "1 2023-12-19 16:30:00+00:00 2023-12-20 09:26:00+00:00  \n",
       "2 2023-12-14 03:30:00+00:00 2023-12-14 11:13:00+00:00  "
      ]
     },
     "execution_count": 10,
     "metadata": {},
     "output_type": "execute_result"
    }
   ],
   "source": [
    "merged_df.head(3)"
   ]
  },
  {
   "cell_type": "markdown",
   "metadata": {},
   "source": [
    "### 1.5 Assess lateness "
   ]
  },
  {
   "cell_type": "code",
   "execution_count": 13,
   "metadata": {},
   "outputs": [
    {
     "data": {
      "text/html": [
       "<div>\n",
       "<style scoped>\n",
       "    .dataframe tbody tr th:only-of-type {\n",
       "        vertical-align: middle;\n",
       "    }\n",
       "\n",
       "    .dataframe tbody tr th {\n",
       "        vertical-align: top;\n",
       "    }\n",
       "\n",
       "    .dataframe thead th {\n",
       "        text-align: right;\n",
       "    }\n",
       "</style>\n",
       "<table border=\"1\" class=\"dataframe\">\n",
       "  <thead>\n",
       "    <tr style=\"text-align: right;\">\n",
       "      <th></th>\n",
       "      <th>PROJECT_ID</th>\n",
       "      <th>SHIPMENT_NUMBER</th>\n",
       "      <th>CARRIER_DISPLAY_ID</th>\n",
       "      <th>VEHICLE_SIZE</th>\n",
       "      <th>VEHICLE_BUILD_UP</th>\n",
       "      <th>FIRST_COLLECTION_POST_CODE</th>\n",
       "      <th>LAST_DELIVERY_POST_CODE</th>\n",
       "      <th>FIRST_COLLECTION_LATITUDE</th>\n",
       "      <th>FIRST_COLLECTION_LONGITUDE</th>\n",
       "      <th>LAST_DELIVERY_LATITUDE</th>\n",
       "      <th>...</th>\n",
       "      <th>FIRST_COLLECTION_SCHEDULE_EARLIEST</th>\n",
       "      <th>FIRST_COLLECTION_SCHEDULE_LATEST</th>\n",
       "      <th>LAST_DELIVERY_SCHEDULE_EARLIEST</th>\n",
       "      <th>LAST_DELIVERY_SCHEDULE_LATEST</th>\n",
       "      <th>FIRST_COLLECTION</th>\n",
       "      <th>LAST_DELIVERY</th>\n",
       "      <th>COLLECTION_CUTOFF</th>\n",
       "      <th>DELIVERY_CUTOFF</th>\n",
       "      <th>LATE_COLLECTION</th>\n",
       "      <th>LATE_DELIVERY</th>\n",
       "    </tr>\n",
       "  </thead>\n",
       "  <tbody>\n",
       "    <tr>\n",
       "      <th>0</th>\n",
       "      <td>5456fcfa-5b0c-428e-b322-240d508b6660</td>\n",
       "      <td>SEZHUK-231005-250448</td>\n",
       "      <td>CAUK000096</td>\n",
       "      <td>Tractor Unit</td>\n",
       "      <td>Curtain-Side 13.6M Trailer</td>\n",
       "      <td>PE29 2XR</td>\n",
       "      <td>EH48 2FB</td>\n",
       "      <td>52.315672</td>\n",
       "      <td>-0.157664</td>\n",
       "      <td>55.877803</td>\n",
       "      <td>...</td>\n",
       "      <td>2023-10-06 09:45:00+00:00</td>\n",
       "      <td>2023-10-06 10:00:00+00:00</td>\n",
       "      <td>2023-10-09T09:55:00.000Z</td>\n",
       "      <td>2023-10-09 10:25:00+00:00</td>\n",
       "      <td>2023-10-06 09:58:00+01:00</td>\n",
       "      <td>2023-10-06 10:24:00+01:00</td>\n",
       "      <td>2023-10-06 10:30:00+00:00</td>\n",
       "      <td>2023-10-09 10:55:00+00:00</td>\n",
       "      <td>0</td>\n",
       "      <td>0</td>\n",
       "    </tr>\n",
       "    <tr>\n",
       "      <th>1</th>\n",
       "      <td>eb7a9df0-4875-43d8-9060-c79c35eae2fb</td>\n",
       "      <td>SEZHUK-231217-275004</td>\n",
       "      <td>CAUK000660</td>\n",
       "      <td>Tractor Unit</td>\n",
       "      <td>Box 44ft</td>\n",
       "      <td>BD5 8LZ</td>\n",
       "      <td>RG19 4BQ</td>\n",
       "      <td>53.764125</td>\n",
       "      <td>-1.740145</td>\n",
       "      <td>51.398851</td>\n",
       "      <td>...</td>\n",
       "      <td>2023-12-19 14:20:00+00:00</td>\n",
       "      <td>2023-12-19 16:00:00+00:00</td>\n",
       "      <td>2023-12-20T06:00:00.000Z</td>\n",
       "      <td>2023-12-20 08:56:00+00:00</td>\n",
       "      <td>2023-12-19 15:47:00+00:00</td>\n",
       "      <td>2023-12-20 04:08:00+00:00</td>\n",
       "      <td>2023-12-19 16:30:00+00:00</td>\n",
       "      <td>2023-12-20 09:26:00+00:00</td>\n",
       "      <td>0</td>\n",
       "      <td>0</td>\n",
       "    </tr>\n",
       "    <tr>\n",
       "      <th>2</th>\n",
       "      <td>eb7a9df0-4875-43d8-9060-c79c35eae2fb</td>\n",
       "      <td>SEZHUK-231210-272018</td>\n",
       "      <td>CAUK000435</td>\n",
       "      <td>Tractor Unit</td>\n",
       "      <td>Box 44ft</td>\n",
       "      <td>BD5 8LZ</td>\n",
       "      <td>EN3 7QP</td>\n",
       "      <td>53.767302</td>\n",
       "      <td>-1.746560</td>\n",
       "      <td>51.660700</td>\n",
       "      <td>...</td>\n",
       "      <td>2023-12-14 01:20:00+00:00</td>\n",
       "      <td>2023-12-14 03:00:00+00:00</td>\n",
       "      <td>2023-12-14T07:03:00.000Z</td>\n",
       "      <td>2023-12-14 10:43:00+00:00</td>\n",
       "      <td>2023-12-13 20:51:00+00:00</td>\n",
       "      <td>2023-12-14 10:18:00+00:00</td>\n",
       "      <td>2023-12-14 03:30:00+00:00</td>\n",
       "      <td>2023-12-14 11:13:00+00:00</td>\n",
       "      <td>0</td>\n",
       "      <td>0</td>\n",
       "    </tr>\n",
       "    <tr>\n",
       "      <th>3</th>\n",
       "      <td>40415fe3-e446-4d1e-b141-3698b0dc47f3</td>\n",
       "      <td>SEZHUK-231211-272127</td>\n",
       "      <td>CAUK000096</td>\n",
       "      <td>Tractor Unit</td>\n",
       "      <td>Curtain-Side 13.6M Trailer</td>\n",
       "      <td>HP22 5BL</td>\n",
       "      <td>NG31 7UH</td>\n",
       "      <td>51.779657</td>\n",
       "      <td>-0.772897</td>\n",
       "      <td>52.888113</td>\n",
       "      <td>...</td>\n",
       "      <td>2023-12-13 09:00:00+00:00</td>\n",
       "      <td>2023-12-13 09:30:00+00:00</td>\n",
       "      <td>2023-12-13T15:30:00.000Z</td>\n",
       "      <td>2023-12-13 16:00:00+00:00</td>\n",
       "      <td>2023-12-13 10:41:00+00:00</td>\n",
       "      <td>2023-12-13 17:22:00+00:00</td>\n",
       "      <td>2023-12-13 10:00:00+00:00</td>\n",
       "      <td>2023-12-13 16:30:00+00:00</td>\n",
       "      <td>1</td>\n",
       "      <td>1</td>\n",
       "    </tr>\n",
       "    <tr>\n",
       "      <th>4</th>\n",
       "      <td>39a4e234-5d35-4d94-8e8a-b8bf6fe13953</td>\n",
       "      <td>SEZHUK-231025-256168</td>\n",
       "      <td>CAUK000155</td>\n",
       "      <td>Tractor Unit</td>\n",
       "      <td>Curtain Side</td>\n",
       "      <td>CV23 8BQ</td>\n",
       "      <td>G75 0ZZ</td>\n",
       "      <td>52.334853</td>\n",
       "      <td>-1.180450</td>\n",
       "      <td>55.735089</td>\n",
       "      <td>...</td>\n",
       "      <td>2023-11-07 14:00:00+00:00</td>\n",
       "      <td>2023-11-07 15:00:00+00:00</td>\n",
       "      <td>2023-11-07T23:00:00.000Z</td>\n",
       "      <td>2023-11-07 23:59:00+00:00</td>\n",
       "      <td>2023-11-07 14:17:00+00:00</td>\n",
       "      <td>2023-11-08 03:53:00+00:00</td>\n",
       "      <td>2023-11-07 15:30:00+00:00</td>\n",
       "      <td>2023-11-08 00:29:00+00:00</td>\n",
       "      <td>0</td>\n",
       "      <td>1</td>\n",
       "    </tr>\n",
       "  </tbody>\n",
       "</table>\n",
       "<p>5 rows × 21 columns</p>\n",
       "</div>"
      ],
      "text/plain": [
       "                             PROJECT_ID       SHIPMENT_NUMBER  \\\n",
       "0  5456fcfa-5b0c-428e-b322-240d508b6660  SEZHUK-231005-250448   \n",
       "1  eb7a9df0-4875-43d8-9060-c79c35eae2fb  SEZHUK-231217-275004   \n",
       "2  eb7a9df0-4875-43d8-9060-c79c35eae2fb  SEZHUK-231210-272018   \n",
       "3  40415fe3-e446-4d1e-b141-3698b0dc47f3  SEZHUK-231211-272127   \n",
       "4  39a4e234-5d35-4d94-8e8a-b8bf6fe13953  SEZHUK-231025-256168   \n",
       "\n",
       "  CARRIER_DISPLAY_ID  VEHICLE_SIZE            VEHICLE_BUILD_UP  \\\n",
       "0         CAUK000096  Tractor Unit  Curtain-Side 13.6M Trailer   \n",
       "1         CAUK000660  Tractor Unit                    Box 44ft   \n",
       "2         CAUK000435  Tractor Unit                    Box 44ft   \n",
       "3         CAUK000096  Tractor Unit  Curtain-Side 13.6M Trailer   \n",
       "4         CAUK000155  Tractor Unit                Curtain Side   \n",
       "\n",
       "  FIRST_COLLECTION_POST_CODE LAST_DELIVERY_POST_CODE  \\\n",
       "0                   PE29 2XR                EH48 2FB   \n",
       "1                    BD5 8LZ                RG19 4BQ   \n",
       "2                    BD5 8LZ                 EN3 7QP   \n",
       "3                   HP22 5BL                NG31 7UH   \n",
       "4                   CV23 8BQ                 G75 0ZZ   \n",
       "\n",
       "   FIRST_COLLECTION_LATITUDE  FIRST_COLLECTION_LONGITUDE  \\\n",
       "0                  52.315672                   -0.157664   \n",
       "1                  53.764125                   -1.740145   \n",
       "2                  53.767302                   -1.746560   \n",
       "3                  51.779657                   -0.772897   \n",
       "4                  52.334853                   -1.180450   \n",
       "\n",
       "   LAST_DELIVERY_LATITUDE  ...  FIRST_COLLECTION_SCHEDULE_EARLIEST  \\\n",
       "0               55.877803  ...           2023-10-06 09:45:00+00:00   \n",
       "1               51.398851  ...           2023-12-19 14:20:00+00:00   \n",
       "2               51.660700  ...           2023-12-14 01:20:00+00:00   \n",
       "3               52.888113  ...           2023-12-13 09:00:00+00:00   \n",
       "4               55.735089  ...           2023-11-07 14:00:00+00:00   \n",
       "\n",
       "  FIRST_COLLECTION_SCHEDULE_LATEST LAST_DELIVERY_SCHEDULE_EARLIEST  \\\n",
       "0        2023-10-06 10:00:00+00:00        2023-10-09T09:55:00.000Z   \n",
       "1        2023-12-19 16:00:00+00:00        2023-12-20T06:00:00.000Z   \n",
       "2        2023-12-14 03:00:00+00:00        2023-12-14T07:03:00.000Z   \n",
       "3        2023-12-13 09:30:00+00:00        2023-12-13T15:30:00.000Z   \n",
       "4        2023-11-07 15:00:00+00:00        2023-11-07T23:00:00.000Z   \n",
       "\n",
       "  LAST_DELIVERY_SCHEDULE_LATEST           FIRST_COLLECTION  \\\n",
       "0     2023-10-09 10:25:00+00:00  2023-10-06 09:58:00+01:00   \n",
       "1     2023-12-20 08:56:00+00:00  2023-12-19 15:47:00+00:00   \n",
       "2     2023-12-14 10:43:00+00:00  2023-12-13 20:51:00+00:00   \n",
       "3     2023-12-13 16:00:00+00:00  2023-12-13 10:41:00+00:00   \n",
       "4     2023-11-07 23:59:00+00:00  2023-11-07 14:17:00+00:00   \n",
       "\n",
       "               LAST_DELIVERY         COLLECTION_CUTOFF  \\\n",
       "0  2023-10-06 10:24:00+01:00 2023-10-06 10:30:00+00:00   \n",
       "1  2023-12-20 04:08:00+00:00 2023-12-19 16:30:00+00:00   \n",
       "2  2023-12-14 10:18:00+00:00 2023-12-14 03:30:00+00:00   \n",
       "3  2023-12-13 17:22:00+00:00 2023-12-13 10:00:00+00:00   \n",
       "4  2023-11-08 03:53:00+00:00 2023-11-07 15:30:00+00:00   \n",
       "\n",
       "            DELIVERY_CUTOFF LATE_COLLECTION  LATE_DELIVERY  \n",
       "0 2023-10-09 10:55:00+00:00               0              0  \n",
       "1 2023-12-20 09:26:00+00:00               0              0  \n",
       "2 2023-12-14 11:13:00+00:00               0              0  \n",
       "3 2023-12-13 16:30:00+00:00               1              1  \n",
       "4 2023-11-08 00:29:00+00:00               0              1  \n",
       "\n",
       "[5 rows x 21 columns]"
      ]
     },
     "execution_count": 13,
     "metadata": {},
     "output_type": "execute_result"
    }
   ],
   "source": [
    "merged_df['FIRST_COLLECTION'] = pd.to_datetime(merged_df['FIRST_COLLECTION'], errors='coerce')\n",
    "merged_df['LAST_DELIVERY'] = pd.to_datetime(merged_df['LAST_DELIVERY'], errors='coerce')\n",
    "merged_df['COLLECTION_CUTOFF'] = pd.to_datetime(merged_df['COLLECTION_CUTOFF'], errors='coerce')\n",
    "merged_df['DELIVERY_CUTOFF'] = pd.to_datetime(merged_df['DELIVERY_CUTOFF'], errors='coerce')\n",
    "\n",
    "merged_df['LATE_COLLECTION'] = (merged_df['FIRST_COLLECTION'] > merged_df['COLLECTION_CUTOFF']).astype(int)\n",
    "merged_df['LATE_DELIVERY'] = (merged_df['LAST_DELIVERY'] > merged_df['DELIVERY_CUTOFF']).astype(int)\n",
    "\n",
    "merged_df.head(5)\n"
   ]
  },
  {
   "cell_type": "code",
   "execution_count": 14,
   "metadata": {},
   "outputs": [
    {
     "name": "stdout",
     "output_type": "stream",
     "text": [
      "39.61 % of collections were late\n",
      "37.36 % of deliveries were late\n"
     ]
    }
   ],
   "source": [
    "percentage_late_collections = merged_df['LATE_COLLECTION'].mean() * 100\n",
    "percentage_late_deliveries = merged_df['LATE_DELIVERY'].mean() * 100\n",
    "\n",
    "print(round(percentage_late_collections, 2), \"% of collections were late\")\n",
    "print(round(percentage_late_deliveries, 2), \"% of deliveries were late\")"
   ]
  },
  {
   "cell_type": "code",
   "execution_count": 15,
   "metadata": {},
   "outputs": [
    {
     "name": "stdout",
     "output_type": "stream",
     "text": [
      "62.64 % of deliveries were on time.\n"
     ]
    }
   ],
   "source": [
    "# the task actually asks for % of on-time, not of late deliveries...\n",
    "print(100 - round(percentage_late_deliveries, 2), \"% of deliveries were on time.\")"
   ]
  },
  {
   "cell_type": "markdown",
   "metadata": {},
   "source": [
    "### Answer: 62.64% of shipments met the on-time delivery threshold (arriving no later than 30 minutes past the scheduled delivery window) between October 1st and December 31st, 2023"
   ]
  },
  {
   "cell_type": "markdown",
   "metadata": {},
   "source": [
    "# Task 2:\n",
    "\n",
    "Timely communication of potential delays is crucial for shippers. \n",
    "\n",
    "During the 3-month period from 1st Oct to 31st Dec 2023, which shipper(s) should be notified automatically regarding potential late delivery of which shipments, and at what times?"
   ]
  },
  {
   "cell_type": "markdown",
   "metadata": {},
   "source": [
    "Here, we will assume that potential late delivery is automatically notified is there is a late collection of shipment past the scheduled delivery window + 30 minutes. The shippers should be notified automatically at the time 30 minutes after the scheduled collection window IF the item still has not been collected. (E.g. if the collection window is until 12pm, and the item has not been collected by 12:30pm, then notify the shipper.)"
   ]
  },
  {
   "cell_type": "code",
   "execution_count": 16,
   "metadata": {},
   "outputs": [
    {
     "name": "stdout",
     "output_type": "stream",
     "text": [
      "Proportion of late collections that end up with late deliveries:\n"
     ]
    },
    {
     "data": {
      "text/plain": [
       "0.57"
      ]
     },
     "execution_count": 16,
     "metadata": {},
     "output_type": "execute_result"
    }
   ],
   "source": [
    "late_col_late_del = merged_df[(merged_df['LATE_COLLECTION'] == 1) & (merged_df['LATE_DELIVERY'] == 1)].shape[0]\n",
    "late_col_on_time_del =  merged_df[(merged_df['LATE_COLLECTION'] == 1) & (merged_df['LATE_DELIVERY'] == 0)].shape[0]\n",
    "\n",
    "print(\"Proportion of late collections that end up with late deliveries:\")\n",
    "round(late_col_late_del / (late_col_late_del + late_col_on_time_del),2)"
   ]
  },
  {
   "cell_type": "code",
   "execution_count": 17,
   "metadata": {},
   "outputs": [
    {
     "name": "stdout",
     "output_type": "stream",
     "text": [
      "Proportion of on time collections that result in late deliveries:\n"
     ]
    },
    {
     "data": {
      "text/plain": [
       "0.25"
      ]
     },
     "execution_count": 17,
     "metadata": {},
     "output_type": "execute_result"
    }
   ],
   "source": [
    "on_time_col_late_del = merged_df[(merged_df['LATE_COLLECTION'] == 0) & (merged_df['LATE_DELIVERY'] == 1)].shape[0]\n",
    "on_time_on_time_del =  merged_df[(merged_df['LATE_COLLECTION'] == 0) & (merged_df['LATE_DELIVERY'] == 0)].shape[0]\n",
    "\n",
    "print(\"Proportion of on time collections that result in late deliveries:\")\n",
    "round(on_time_col_late_del / (on_time_col_late_del+on_time_on_time_del),2)\n"
   ]
  },
  {
   "cell_type": "markdown",
   "metadata": {},
   "source": [
    "So we know that late collections are much more likely to end up in late deliveries. So lets automatically notify shippers who have a LATE_COLLECTION, at the time of the closing of their collection window + 30 minutes. We can easily extrapolate this data set as we already have all of the data required - the COLLECTION_CUTOFF (which is FIRST_COLLECTION_SCHEDULE_LATEST plus 30 minutes) and the LATE_COLLECTION column, which tells us which shipments had late collections.\n",
    "\n",
    "Note that the SHIPPER_ID seems to be missing, so we will use shipment number to list which shipments need to be delivered. "
   ]
  },
  {
   "cell_type": "code",
   "execution_count": 18,
   "metadata": {},
   "outputs": [],
   "source": [
    "notify_shippers = merged_df[merged_df['LATE_COLLECTION'] == 1][['SHIPMENT_NUMBER','COLLECTION_CUTOFF']]"
   ]
  },
  {
   "cell_type": "code",
   "execution_count": 19,
   "metadata": {},
   "outputs": [
    {
     "data": {
      "text/html": [
       "<div>\n",
       "<style scoped>\n",
       "    .dataframe tbody tr th:only-of-type {\n",
       "        vertical-align: middle;\n",
       "    }\n",
       "\n",
       "    .dataframe tbody tr th {\n",
       "        vertical-align: top;\n",
       "    }\n",
       "\n",
       "    .dataframe thead th {\n",
       "        text-align: right;\n",
       "    }\n",
       "</style>\n",
       "<table border=\"1\" class=\"dataframe\">\n",
       "  <thead>\n",
       "    <tr style=\"text-align: right;\">\n",
       "      <th></th>\n",
       "      <th>SHIPMENT_NUMBER</th>\n",
       "      <th>COLLECTION_CUTOFF</th>\n",
       "    </tr>\n",
       "  </thead>\n",
       "  <tbody>\n",
       "    <tr>\n",
       "      <th>3</th>\n",
       "      <td>SEZHUK-231211-272127</td>\n",
       "      <td>2023-12-13 10:00:00+00:00</td>\n",
       "    </tr>\n",
       "    <tr>\n",
       "      <th>8</th>\n",
       "      <td>SEZHUK-231126-266580</td>\n",
       "      <td>2023-11-27 02:30:01+00:00</td>\n",
       "    </tr>\n",
       "    <tr>\n",
       "      <th>10</th>\n",
       "      <td>SEZHUK-230929-248606</td>\n",
       "      <td>2023-10-02 16:29:00+00:00</td>\n",
       "    </tr>\n",
       "    <tr>\n",
       "      <th>11</th>\n",
       "      <td>SEZHUK-231102-258924</td>\n",
       "      <td>2023-11-03 17:30:00+00:00</td>\n",
       "    </tr>\n",
       "    <tr>\n",
       "      <th>14</th>\n",
       "      <td>SEZHUK-230927-247990</td>\n",
       "      <td>2023-10-04 01:30:00+00:00</td>\n",
       "    </tr>\n",
       "    <tr>\n",
       "      <th>...</th>\n",
       "      <td>...</td>\n",
       "      <td>...</td>\n",
       "    </tr>\n",
       "    <tr>\n",
       "      <th>3231</th>\n",
       "      <td>SEZHUK-231101-258349</td>\n",
       "      <td>2023-11-02 18:30:00+00:00</td>\n",
       "    </tr>\n",
       "    <tr>\n",
       "      <th>3234</th>\n",
       "      <td>SEZHUK-231109-261155</td>\n",
       "      <td>2023-11-21 05:30:00+00:00</td>\n",
       "    </tr>\n",
       "    <tr>\n",
       "      <th>3235</th>\n",
       "      <td>SEZHUK-231221-276349</td>\n",
       "      <td>2023-12-22 15:32:00+00:00</td>\n",
       "    </tr>\n",
       "    <tr>\n",
       "      <th>3239</th>\n",
       "      <td>SEZHUK-231122-265206</td>\n",
       "      <td>2023-12-02 01:30:00+00:00</td>\n",
       "    </tr>\n",
       "    <tr>\n",
       "      <th>3242</th>\n",
       "      <td>SEZHUK-231117-264094</td>\n",
       "      <td>2023-11-18 16:30:01+00:00</td>\n",
       "    </tr>\n",
       "  </tbody>\n",
       "</table>\n",
       "<p>1285 rows × 2 columns</p>\n",
       "</div>"
      ],
      "text/plain": [
       "           SHIPMENT_NUMBER         COLLECTION_CUTOFF\n",
       "3     SEZHUK-231211-272127 2023-12-13 10:00:00+00:00\n",
       "8     SEZHUK-231126-266580 2023-11-27 02:30:01+00:00\n",
       "10    SEZHUK-230929-248606 2023-10-02 16:29:00+00:00\n",
       "11    SEZHUK-231102-258924 2023-11-03 17:30:00+00:00\n",
       "14    SEZHUK-230927-247990 2023-10-04 01:30:00+00:00\n",
       "...                    ...                       ...\n",
       "3231  SEZHUK-231101-258349 2023-11-02 18:30:00+00:00\n",
       "3234  SEZHUK-231109-261155 2023-11-21 05:30:00+00:00\n",
       "3235  SEZHUK-231221-276349 2023-12-22 15:32:00+00:00\n",
       "3239  SEZHUK-231122-265206 2023-12-02 01:30:00+00:00\n",
       "3242  SEZHUK-231117-264094 2023-11-18 16:30:01+00:00\n",
       "\n",
       "[1285 rows x 2 columns]"
      ]
     },
     "execution_count": 19,
     "metadata": {},
     "output_type": "execute_result"
    }
   ],
   "source": [
    "notify_shippers"
   ]
  },
  {
   "cell_type": "markdown",
   "metadata": {},
   "source": [
    "The above dataframe shows the shipment numbers that had late collections, and the time we know that the collection was late (30 minutes after the scheduled collection window).\n",
    "\n",
    "For a larger scope project, one could assess the difference between the GPS location throughout the shippers journey, and use the distance and average velocity of the courier to assess when or if a courier would arrive within the delivery window, or more than 30 minutes afterwards."
   ]
  },
  {
   "cell_type": "markdown",
   "metadata": {},
   "source": [
    "## Task 3: \n",
    "\n",
    "(Optional): Predict the likelihood of delay for the list of shipments in “New_bookings.csv” dataset.\n",
    "\n",
    "To do this we can train a model on the variables in the shipment_bookings.csv file. First we will choose the columns of potential interest:\n"
   ]
  },
  {
   "cell_type": "code",
   "execution_count": 20,
   "metadata": {},
   "outputs": [],
   "source": [
    "shipment_training_data_whole = merged_df[['CARRIER_DISPLAY_ID', 'VEHICLE_SIZE',\n",
    "       'VEHICLE_BUILD_UP', 'FIRST_COLLECTION_LATITUDE',\n",
    "       'FIRST_COLLECTION_LONGITUDE', 'LAST_DELIVERY_LATITUDE',\n",
    "       'LAST_DELIVERY_LONGITUDE', 'FIRST_COLLECTION_SCHEDULE_EARLIEST',\n",
    "       'FIRST_COLLECTION_SCHEDULE_LATEST', 'LAST_DELIVERY_SCHEDULE_EARLIEST',\n",
    "       'LAST_DELIVERY_SCHEDULE_LATEST','LATE_DELIVERY']]\n",
    "\n",
    "# removing project ID and shipment ID numbers, and post codes which are not as specific as the lat and long columns.\n",
    "# We are keeping the carrier ID, the vehicle size and build up, and the collection windows and longitude and latitude.\n",
    "# We can now engineer some more interesting columns."
   ]
  },
  {
   "cell_type": "markdown",
   "metadata": {},
   "source": [
    "### 3.1 Distance between start and finish using radians and lat/long:"
   ]
  },
  {
   "cell_type": "code",
   "execution_count": 21,
   "metadata": {},
   "outputs": [],
   "source": [
    "# first find distance between the collection lat/long and destination lat/long\n",
    "from math import radians, sin, cos, sqrt, atan2\n",
    "\n",
    "def calculate_distance(lat1, lon1, lat2, lon2):\n",
    "    # approximate radius of earth in km\n",
    "    R = 6371.0\n",
    "\n",
    "    lat1 = radians(lat1)\n",
    "    lon1 = radians(lon1)\n",
    "    lat2 = radians(lat2)\n",
    "    lon2 = radians(lon2)\n",
    "\n",
    "    dlon = lon2 - lon1\n",
    "    dlat = lat2 - lat1\n",
    "\n",
    "    a = sin(dlat / 2)**2 + cos(lat1) * cos(lat2) * sin(dlon / 2)**2\n",
    "    c = 2 * atan2(sqrt(a), sqrt(1 - a))\n",
    "\n",
    "    distance = round(R * c)\n",
    "    return distance"
   ]
  },
  {
   "cell_type": "code",
   "execution_count": 22,
   "metadata": {},
   "outputs": [],
   "source": [
    "shipment_training_data_whole['DISTANCE'] = shipment_training_data_whole.apply(lambda row: calculate_distance(row['FIRST_COLLECTION_LATITUDE'], row['FIRST_COLLECTION_LONGITUDE'], \n",
    "                                                          row['LAST_DELIVERY_LATITUDE'], row['LAST_DELIVERY_LONGITUDE']), axis=1)"
   ]
  },
  {
   "cell_type": "markdown",
   "metadata": {},
   "source": [
    "### 3.2 Look at day of the week and rush hours as a column:\n",
    "\n",
    "The dt.hour attribute extracts the hour of the day (in 24-hour format) and dt.dayofweek attribute extracts the day of the week (Monday=0, Sunday=6).\n",
    "\n",
    "We are setting rush hours to 7:00 - 10:00 and 16:00 - 19:00. "
   ]
  },
  {
   "cell_type": "code",
   "execution_count": 23,
   "metadata": {},
   "outputs": [],
   "source": [
    "# convert to datetime if they're not\n",
    "shipment_training_data_whole['FIRST_COLLECTION_SCHEDULE_EARLIEST'] = pd.to_datetime(shipment_training_data_whole['FIRST_COLLECTION_SCHEDULE_EARLIEST'])\n",
    "shipment_training_data_whole['LAST_DELIVERY_SCHEDULE_LATEST'] = pd.to_datetime(shipment_training_data_whole['LAST_DELIVERY_SCHEDULE_LATEST'])\n",
    "\n",
    "# extract hour of day and day of week\n",
    "shipment_training_data_whole['COLLECTION_HOUR'] = shipment_training_data_whole['FIRST_COLLECTION_SCHEDULE_EARLIEST'].dt.hour\n",
    "shipment_training_data_whole['DELIVERY_HOUR'] = shipment_training_data_whole['LAST_DELIVERY_SCHEDULE_LATEST'].dt.hour\n",
    "shipment_training_data_whole['COLLECTION_DAY_OF_WEEK'] = shipment_training_data_whole['FIRST_COLLECTION_SCHEDULE_EARLIEST'].dt.dayofweek\n",
    "shipment_training_data_whole['DELIVERY_DAY_OF_WEEK'] = shipment_training_data_whole['LAST_DELIVERY_SCHEDULE_LATEST'].dt.dayofweek"
   ]
  },
  {
   "cell_type": "code",
   "execution_count": 24,
   "metadata": {},
   "outputs": [],
   "source": [
    "shipment_training_data_whole['COLLECTION_RUSH_HOUR'] = ((shipment_training_data_whole['COLLECTION_HOUR'] >= 7) & (shipment_training_data_whole['COLLECTION_HOUR'] <= 10)) | ((shipment_training_data_whole['COLLECTION_HOUR'] >= 16) & (shipment_training_data_whole['COLLECTION_HOUR'] <= 19))\n",
    "shipment_training_data_whole['DELIVERY_RUSH_HOUR'] = ((shipment_training_data_whole['DELIVERY_HOUR'] >= 7) & (shipment_training_data_whole['DELIVERY_HOUR'] <= 10)) | ((shipment_training_data_whole['DELIVERY_HOUR'] >= 16) & (shipment_training_data_whole['DELIVERY_HOUR'] <= 19))"
   ]
  },
  {
   "cell_type": "code",
   "execution_count": 25,
   "metadata": {},
   "outputs": [],
   "source": [
    "cols_of_interest = shipment_training_data_whole[[\n",
    "                                                 'DISTANCE', 'COLLECTION_HOUR', 'DELIVERY_HOUR', 'COLLECTION_DAY_OF_WEEK',\n",
    "                                                 'DELIVERY_DAY_OF_WEEK', 'COLLECTION_RUSH_HOUR', 'DELIVERY_RUSH_HOUR', 'LATE_DELIVERY']]"
   ]
  },
  {
   "cell_type": "markdown",
   "metadata": {},
   "source": [
    "### 3.3 Build a model for these columns"
   ]
  },
  {
   "cell_type": "code",
   "execution_count": 26,
   "metadata": {},
   "outputs": [],
   "source": [
    "X = cols_of_interest.drop(columns=['LATE_DELIVERY'])\n",
    "y = cols_of_interest['LATE_DELIVERY']"
   ]
  },
  {
   "cell_type": "code",
   "execution_count": 27,
   "metadata": {},
   "outputs": [],
   "source": [
    "# create dummy variables\n",
    "# X_encoded = pd.get_dummies(X, columns=['VEHICLE_SIZE', 'VEHICLE_BUILD_UP']) # no longer usng dummmy variables as they don't exist in both sets of data\n",
    "\n",
    "# split the data into training and test sets\n",
    "X_train, X_test, y_train, y_test = train_test_split(X, y, test_size=0.1, random_state=42)\n",
    "\n",
    "model = RandomForestClassifier(random_state=42)"
   ]
  },
  {
   "cell_type": "markdown",
   "metadata": {},
   "source": [
    "# Feature 1. Distance between start and end points\n",
    "\n",
    "This was the most important feature according to our feature importance scores. Surprisingly, it seems that there are more on time deliveries over 500 KM than late deliveries, shown by the slightly wider violin plot top. There seems to be a peak around 100 KM and 200 KM for lateness, which isn't seen on the on time deliveries. The pattern in lateness is not linear, hence linear regression would not be a suitable fit for this model."
   ]
  },
  {
   "cell_type": "code",
   "execution_count": 28,
   "metadata": {},
   "outputs": [
    {
     "name": "stdout",
     "output_type": "stream",
     "text": [
      "Accuracy: 0.6861538461538461\n"
     ]
    }
   ],
   "source": [
    "model.fit(X_train, y_train)\n",
    "y_pred = model.predict(X_test)\n",
    "print(\"Accuracy:\", accuracy_score(y_test, y_pred))"
   ]
  },
  {
   "cell_type": "markdown",
   "metadata": {},
   "source": [
    "# Task 4: Predict for New Bookings"
   ]
  },
  {
   "cell_type": "code",
   "execution_count": 30,
   "metadata": {},
   "outputs": [],
   "source": [
    "# recreate column with matching name of cols\n",
    "# becomes redundant as we don't have matching courier names in both sets of data\n",
    "new_bookings['CARRIER_DISPLAY_ID'] = new_bookings['CARRIER_ID']"
   ]
  },
  {
   "cell_type": "code",
   "execution_count": 31,
   "metadata": {},
   "outputs": [],
   "source": [
    "new_data_whole = new_bookings[[\n",
    "       # 'CARRIER_DISPLAY_ID', 'VEHICLE_SIZE', 'VEHICLE_BUILD_UP', \n",
    "       'FIRST_COLLECTION_LATITUDE',\n",
    "       'FIRST_COLLECTION_LONGITUDE', 'LAST_DELIVERY_LATITUDE',\n",
    "       'LAST_DELIVERY_LONGITUDE', 'FIRST_COLLECTION_SCHEDULE_EARLIEST',\n",
    "       'FIRST_COLLECTION_SCHEDULE_LATEST', 'LAST_DELIVERY_SCHEDULE_EARLIEST',\n",
    "       'LAST_DELIVERY_SCHEDULE_LATEST']]"
   ]
  },
  {
   "cell_type": "code",
   "execution_count": 32,
   "metadata": {},
   "outputs": [],
   "source": [
    "new_data_whole['DISTANCE'] = new_data_whole.apply(lambda row: calculate_distance(row['FIRST_COLLECTION_LATITUDE'], row['FIRST_COLLECTION_LONGITUDE'], \n",
    "                                                          row['LAST_DELIVERY_LATITUDE'], row['LAST_DELIVERY_LONGITUDE']), axis=1)\n",
    "\n",
    "# convert to datetime if they're not\n",
    "new_data_whole['FIRST_COLLECTION_SCHEDULE_EARLIEST'] = pd.to_datetime(new_data_whole['FIRST_COLLECTION_SCHEDULE_EARLIEST'])\n",
    "new_data_whole['LAST_DELIVERY_SCHEDULE_LATEST'] = pd.to_datetime(new_data_whole['LAST_DELIVERY_SCHEDULE_LATEST'])\n",
    "\n",
    "# extract hour of day and day of week\n",
    "new_data_whole['COLLECTION_HOUR'] = new_data_whole['FIRST_COLLECTION_SCHEDULE_EARLIEST'].dt.hour\n",
    "new_data_whole['DELIVERY_HOUR'] = new_data_whole['LAST_DELIVERY_SCHEDULE_LATEST'].dt.hour\n",
    "new_data_whole['COLLECTION_DAY_OF_WEEK'] = new_data_whole['FIRST_COLLECTION_SCHEDULE_EARLIEST'].dt.dayofweek\n",
    "new_data_whole['DELIVERY_DAY_OF_WEEK'] = new_data_whole['LAST_DELIVERY_SCHEDULE_LATEST'].dt.dayofweek\n",
    "\n",
    "new_data_whole['COLLECTION_RUSH_HOUR'] = ((new_data_whole['COLLECTION_HOUR'] >= 7) & (new_data_whole['COLLECTION_HOUR'] <= 10)) | ((new_data_whole['COLLECTION_HOUR'] >= 16) & (new_data_whole['COLLECTION_HOUR'] <= 19))\n",
    "new_data_whole['DELIVERY_RUSH_HOUR'] = ((new_data_whole['DELIVERY_HOUR'] >= 7) & (new_data_whole['DELIVERY_HOUR'] <= 10)) | ((new_data_whole['DELIVERY_HOUR'] >= 16) & (new_data_whole['DELIVERY_HOUR'] <= 19))\n",
    "\n",
    "test_cols_of_interest = new_data_whole[['DISTANCE', 'COLLECTION_HOUR', 'DELIVERY_HOUR', 'COLLECTION_DAY_OF_WEEK',\n",
    "                                                 'DELIVERY_DAY_OF_WEEK', 'COLLECTION_RUSH_HOUR', 'DELIVERY_RUSH_HOUR']]\n",
    "\n",
    "# encode as before\n",
    "# test_cols_of_interest_encoded = pd.get_dummies(test_cols_of_interest, columns=['VEHICLE_SIZE', 'VEHICLE_BUILD_UP'])\n"
   ]
  },
  {
   "cell_type": "code",
   "execution_count": 33,
   "metadata": {},
   "outputs": [],
   "source": [
    "test_cols_of_interest['LATE_DELIVERY'] = model.predict_proba(test_cols_of_interest)[:, 1]"
   ]
  },
  {
   "cell_type": "code",
   "execution_count": 34,
   "metadata": {},
   "outputs": [
    {
     "data": {
      "text/html": [
       "<div>\n",
       "<style scoped>\n",
       "    .dataframe tbody tr th:only-of-type {\n",
       "        vertical-align: middle;\n",
       "    }\n",
       "\n",
       "    .dataframe tbody tr th {\n",
       "        vertical-align: top;\n",
       "    }\n",
       "\n",
       "    .dataframe thead th {\n",
       "        text-align: right;\n",
       "    }\n",
       "</style>\n",
       "<table border=\"1\" class=\"dataframe\">\n",
       "  <thead>\n",
       "    <tr style=\"text-align: right;\">\n",
       "      <th></th>\n",
       "      <th>DISTANCE</th>\n",
       "      <th>COLLECTION_HOUR</th>\n",
       "      <th>DELIVERY_HOUR</th>\n",
       "      <th>COLLECTION_DAY_OF_WEEK</th>\n",
       "      <th>DELIVERY_DAY_OF_WEEK</th>\n",
       "      <th>COLLECTION_RUSH_HOUR</th>\n",
       "      <th>DELIVERY_RUSH_HOUR</th>\n",
       "      <th>LATE_DELIVERY</th>\n",
       "    </tr>\n",
       "  </thead>\n",
       "  <tbody>\n",
       "    <tr>\n",
       "      <th>0</th>\n",
       "      <td>345</td>\n",
       "      <td>18</td>\n",
       "      <td>13</td>\n",
       "      <td>3</td>\n",
       "      <td>4</td>\n",
       "      <td>True</td>\n",
       "      <td>False</td>\n",
       "      <td>0.340000</td>\n",
       "    </tr>\n",
       "    <tr>\n",
       "      <th>1</th>\n",
       "      <td>322</td>\n",
       "      <td>10</td>\n",
       "      <td>8</td>\n",
       "      <td>4</td>\n",
       "      <td>1</td>\n",
       "      <td>True</td>\n",
       "      <td>True</td>\n",
       "      <td>0.542857</td>\n",
       "    </tr>\n",
       "    <tr>\n",
       "      <th>2</th>\n",
       "      <td>345</td>\n",
       "      <td>15</td>\n",
       "      <td>15</td>\n",
       "      <td>3</td>\n",
       "      <td>4</td>\n",
       "      <td>False</td>\n",
       "      <td>False</td>\n",
       "      <td>0.176786</td>\n",
       "    </tr>\n",
       "    <tr>\n",
       "      <th>3</th>\n",
       "      <td>357</td>\n",
       "      <td>6</td>\n",
       "      <td>11</td>\n",
       "      <td>1</td>\n",
       "      <td>3</td>\n",
       "      <td>False</td>\n",
       "      <td>False</td>\n",
       "      <td>0.099524</td>\n",
       "    </tr>\n",
       "    <tr>\n",
       "      <th>4</th>\n",
       "      <td>352</td>\n",
       "      <td>6</td>\n",
       "      <td>7</td>\n",
       "      <td>3</td>\n",
       "      <td>0</td>\n",
       "      <td>False</td>\n",
       "      <td>True</td>\n",
       "      <td>0.495143</td>\n",
       "    </tr>\n",
       "    <tr>\n",
       "      <th>...</th>\n",
       "      <td>...</td>\n",
       "      <td>...</td>\n",
       "      <td>...</td>\n",
       "      <td>...</td>\n",
       "      <td>...</td>\n",
       "      <td>...</td>\n",
       "      <td>...</td>\n",
       "      <td>...</td>\n",
       "    </tr>\n",
       "    <tr>\n",
       "      <th>995</th>\n",
       "      <td>25</td>\n",
       "      <td>9</td>\n",
       "      <td>14</td>\n",
       "      <td>4</td>\n",
       "      <td>4</td>\n",
       "      <td>True</td>\n",
       "      <td>False</td>\n",
       "      <td>0.302952</td>\n",
       "    </tr>\n",
       "    <tr>\n",
       "      <th>996</th>\n",
       "      <td>134</td>\n",
       "      <td>8</td>\n",
       "      <td>14</td>\n",
       "      <td>4</td>\n",
       "      <td>4</td>\n",
       "      <td>True</td>\n",
       "      <td>False</td>\n",
       "      <td>0.641333</td>\n",
       "    </tr>\n",
       "    <tr>\n",
       "      <th>997</th>\n",
       "      <td>198</td>\n",
       "      <td>12</td>\n",
       "      <td>19</td>\n",
       "      <td>2</td>\n",
       "      <td>2</td>\n",
       "      <td>False</td>\n",
       "      <td>True</td>\n",
       "      <td>0.944000</td>\n",
       "    </tr>\n",
       "    <tr>\n",
       "      <th>998</th>\n",
       "      <td>383</td>\n",
       "      <td>16</td>\n",
       "      <td>23</td>\n",
       "      <td>2</td>\n",
       "      <td>2</td>\n",
       "      <td>True</td>\n",
       "      <td>False</td>\n",
       "      <td>0.861103</td>\n",
       "    </tr>\n",
       "    <tr>\n",
       "      <th>999</th>\n",
       "      <td>198</td>\n",
       "      <td>16</td>\n",
       "      <td>2</td>\n",
       "      <td>2</td>\n",
       "      <td>3</td>\n",
       "      <td>True</td>\n",
       "      <td>False</td>\n",
       "      <td>0.596476</td>\n",
       "    </tr>\n",
       "  </tbody>\n",
       "</table>\n",
       "<p>1000 rows × 8 columns</p>\n",
       "</div>"
      ],
      "text/plain": [
       "     DISTANCE  COLLECTION_HOUR  DELIVERY_HOUR  COLLECTION_DAY_OF_WEEK  \\\n",
       "0         345               18             13                       3   \n",
       "1         322               10              8                       4   \n",
       "2         345               15             15                       3   \n",
       "3         357                6             11                       1   \n",
       "4         352                6              7                       3   \n",
       "..        ...              ...            ...                     ...   \n",
       "995        25                9             14                       4   \n",
       "996       134                8             14                       4   \n",
       "997       198               12             19                       2   \n",
       "998       383               16             23                       2   \n",
       "999       198               16              2                       2   \n",
       "\n",
       "     DELIVERY_DAY_OF_WEEK  COLLECTION_RUSH_HOUR  DELIVERY_RUSH_HOUR  \\\n",
       "0                       4                  True               False   \n",
       "1                       1                  True                True   \n",
       "2                       4                 False               False   \n",
       "3                       3                 False               False   \n",
       "4                       0                 False                True   \n",
       "..                    ...                   ...                 ...   \n",
       "995                     4                  True               False   \n",
       "996                     4                  True               False   \n",
       "997                     2                 False                True   \n",
       "998                     2                  True               False   \n",
       "999                     3                  True               False   \n",
       "\n",
       "     LATE_DELIVERY  \n",
       "0         0.340000  \n",
       "1         0.542857  \n",
       "2         0.176786  \n",
       "3         0.099524  \n",
       "4         0.495143  \n",
       "..             ...  \n",
       "995       0.302952  \n",
       "996       0.641333  \n",
       "997       0.944000  \n",
       "998       0.861103  \n",
       "999       0.596476  \n",
       "\n",
       "[1000 rows x 8 columns]"
      ]
     },
     "execution_count": 34,
     "metadata": {},
     "output_type": "execute_result"
    }
   ],
   "source": [
    "test_cols_of_interest"
   ]
  },
  {
   "cell_type": "markdown",
   "metadata": {},
   "source": [
    "# Examining Feature importance:\n",
    "\n",
    "The most crucial feature determining the delivery delay is the 'DISTANCE', accounting for approximately 38.66% of the decision-making process. This indicates that the greater the distance between the collection and delivery points, the higher the chances of the delivery being delayed. In the second and third ranks, we have 'DELIVERY_HOUR' and 'COLLECTION_HOUR', contributing to 19.15% and 18.90% of the importance, respectively. These suggest that the timing of collection and delivery plays a significant role in whether the delivery will be on schedule. \n",
    "\n",
    "The day of the week for both collection and delivery ('COLLECTION_DAY_OF_WEEK' and 'DELIVERY_DAY_OF_WEEK') also have substantial importance, each accounting for around 9.6% of the model's decision. Lastly, whether the collection or delivery falls within rush hour ('COLLECTION_RUSH_HOUR' and 'DELIVERY_RUSH_HOUR') has the least influence, with each contributing to approximately 2% of the model's decision."
   ]
  },
  {
   "cell_type": "code",
   "execution_count": 35,
   "metadata": {},
   "outputs": [
    {
     "name": "stdout",
     "output_type": "stream",
     "text": [
      "                  feature  importance\n",
      "0                DISTANCE    0.386560\n",
      "2           DELIVERY_HOUR    0.191511\n",
      "1         COLLECTION_HOUR    0.188966\n",
      "4    DELIVERY_DAY_OF_WEEK    0.096916\n",
      "3  COLLECTION_DAY_OF_WEEK    0.096297\n",
      "6      DELIVERY_RUSH_HOUR    0.020509\n",
      "5    COLLECTION_RUSH_HOUR    0.019240\n"
     ]
    }
   ],
   "source": [
    "# Assuming you have a trained model named 'model'\n",
    "importances = model.feature_importances_\n",
    "\n",
    "# To make it easier to understand, you can create a DataFrame that matches the importances with their corresponding feature names:\n",
    "feature_importances = pd.DataFrame({'feature': X.columns, 'importance': importances})\n",
    "\n",
    "# Sort the DataFrame to see the features with the highest importance at the top:\n",
    "feature_importances = feature_importances.sort_values('importance', ascending=False)\n",
    "\n",
    "print(feature_importances)"
   ]
  },
  {
   "cell_type": "markdown",
   "metadata": {},
   "source": [
    "# Feature 1. Distance between start and end points\n",
    "\n",
    "This was the most important feature according to our feature importance scores. Surprisingly, it seems that there are more on time deliveries over 500 KM than late deliveries, shown by the slightly wider violin plot top. There seems to be a peak around 100 KM and 200 KM for lateness, which isn't seen on the on time deliveries. The pattern in lateness is not linear, hence linear regression would not be a suitable fit for this model."
   ]
  },
  {
   "cell_type": "code",
   "execution_count": 47,
   "metadata": {},
   "outputs": [
    {
     "data": {
      "image/png": "[encoded data removed]",
      "text/plain": [
       "<Figure size 720x432 with 1 Axes>"
      ]
     },
     "metadata": {
      "needs_background": "light"
     },
     "output_type": "display_data"
    }
   ],
   "source": [
    "plt.figure(figsize=(10, 6))\n",
    "sns.violinplot(x='LATE_DELIVERY', y='DISTANCE', data=cols_of_interest)\n",
    "plt.title('Lateness vs Distance')\n",
    "plt.xlabel('Lateness')\n",
    "plt.ylabel('Distance (km)')\n",
    "plt.show()\n"
   ]
  },
  {
   "cell_type": "markdown",
   "metadata": {},
   "source": [
    "## Feature 2. Delivery Hour\n",
    "\n",
    "The below graphs show firstly that the highest chance of a Late Delivery comes around 11pm-1am, and another peak at 2pm. Surprisingly, the lateness of delivery is least frequent at 9pm delivery hour, just after rush hour. \n",
    "\n",
    "The second graph shows a partial dependence plot. A PDP shows the marginal effect of a feature (delivery hour) on the predicted outcome (a late delivery). \n",
    "- At 12am-1am, the likelihood of being late is 0.44 higher than at the baseline (which seems to be 22:00).\n",
    "- This likelihood decreases as the day goes on.\n",
    "- By 22:00, the likelihood is zero - it's the same as the baseline. This means that the likelihood of being late doesn't increase or decrease at 22:00 compared to the baseline."
   ]
  },
  {
   "cell_type": "code",
   "execution_count": 44,
   "metadata": {},
   "outputs": [
    {
     "data": {
      "image/png": "[encoded data removed]",
      "text/plain": [
       "<Figure size 360x360 with 1 Axes>"
      ]
     },
     "metadata": {
      "needs_background": "light"
     },
     "output_type": "display_data"
    }
   ],
   "source": [
    "# From the training data\n",
    "sns.catplot(x=\"DELIVERY_HOUR\", y=\"LATE_DELIVERY\", kind=\"bar\", data=cols_of_interest)\n",
    "plt.show()"
   ]
  },
  {
   "cell_type": "code",
   "execution_count": 43,
   "metadata": {},
   "outputs": [
    {
     "data": {
      "image/png": "[encoded data removed]",
      "text/plain": [
       "<Figure size 432x288 with 2 Axes>"
      ]
     },
     "metadata": {
      "needs_background": "light"
     },
     "output_type": "display_data"
    }
   ],
   "source": [
    "from sklearn.inspection import plot_partial_dependence\n",
    "\n",
    "plot_partial_dependence(model, X_train, ['DELIVERY_HOUR'])\n",
    "plt.show()"
   ]
  },
  {
   "cell_type": "markdown",
   "metadata": {},
   "source": [
    "# Feature 3. Collection Hour\n",
    "\n",
    "Conversely, the deliveries are most likely to be late when the collection is around 8pm to midnight. There is then a significant drop off after midnight, with 12am-4am collections resulting in the lowest incidence of lateness. \n",
    "\n",
    "The PDP below shows:\n",
    "- Late Night to Early Morning (12 AM - 4 AM): The likelihood of late delivery starts at a moderately high level around 0.3 at midnight and gradually drops to its lowest point at 4 AM. This could be due to less traffic and fewer operational constraints at night, which allows for smoother and more efficient collections and subsequent deliveries.\n",
    "\n",
    "\n",
    "- Morning to Afternoon (4 AM - 5 PM): There is a slight increase in the probability of late delivery around 9 AM, where it reaches approximately 0.425. This elevation might be due to increased traffic and business activities during the morning rush hour. However, this risk gradually decreases again until 5 PM, suggesting that as the day progresses and the morning rush subsides, the efficiency of the collection and delivery process improves.\n",
    "\n",
    "\n",
    "- Evening to Night (5 PM - 11 PM): From 5 PM onwards, there is a significant increase in the likelihood of late delivery, peaking at around 0.525 between 8 PM and 11 PM. This could be attributed to the evening rush hour, increased traffic, and potentially longer processing times at collection points due to high demand. It's also possible that fatigue and staffing issues play a role during these hours.\n",
    "\n",
    "In summary, the collection hour significantly impacts the probability of a late delivery, with the lowest likelihood in the early morning hours and the highest in the late evening. Adjustments in operational strategies or staffing during these high-risk periods might help to improve on-time delivery performance."
   ]
  },
  {
   "cell_type": "code",
   "execution_count": 51,
   "metadata": {},
   "outputs": [
    {
     "data": {
      "image/png": "[encoded data removed]",
      "text/plain": [
       "<Figure size 360x360 with 1 Axes>"
      ]
     },
     "metadata": {
      "needs_background": "light"
     },
     "output_type": "display_data"
    }
   ],
   "source": [
    "# From the training data\n",
    "sns.catplot(x=\"COLLECTION_HOUR\", y=\"LATE_DELIVERY\", kind=\"bar\", data=cols_of_interest)\n",
    "plt.show()"
   ]
  },
  {
   "cell_type": "code",
   "execution_count": 52,
   "metadata": {},
   "outputs": [
    {
     "data": {
      "image/png": "[encoded data removed]",
      "text/plain": [
       "<Figure size 432x288 with 2 Axes>"
      ]
     },
     "metadata": {
      "needs_background": "light"
     },
     "output_type": "display_data"
    }
   ],
   "source": [
    "plot_partial_dependence(model, X_train, ['COLLECTION_HOUR'])\n",
    "plt.show()"
   ]
  },
  {
   "cell_type": "markdown",
   "metadata": {},
   "source": [
    "# Feature 4. Delivery Day of the Week\n",
    "\n",
    "This shows that, while there isn't a huge difference in days of the week, Tuesday is the delivery day with least lateness, while Friday and Saturday have the highest, likely due to weekend traffic."
   ]
  },
  {
   "cell_type": "code",
   "execution_count": 70,
   "metadata": {},
   "outputs": [
    {
     "data": {
      "text/plain": [
       "DELIVERY_DAY_OF_WEEK\n",
       "Monday       38.21\n",
       "Tuesday      35.35\n",
       "Wednesday    36.41\n",
       "Thursday     36.78\n",
       "Friday       39.78\n",
       "Saturday     38.75\n",
       "Sunday       36.00\n",
       "Name: LATE_DELIVERY, dtype: float64"
      ]
     },
     "execution_count": 70,
     "metadata": {},
     "output_type": "execute_result"
    }
   ],
   "source": [
    "# Group by 'DELIVERY_DAY_OF_WEEK' and calculate the mean of 'LATE_DELIVERY'\n",
    "percentage_late_by_day = cols_of_interest.groupby('DELIVERY_DAY_OF_WEEK')['LATE_DELIVERY'].mean()\n",
    "\n",
    "# Convert to percentage\n",
    "percentage_late_by_day = round(percentage_late_by_day * 100,2)\n",
    "\n",
    "# set index\n",
    "days_of_week = {0: 'Monday', 1: 'Tuesday', 2: 'Wednesday', 3: 'Thursday', 4: 'Friday', 5: 'Saturday', 6: 'Sunday'}\n",
    "\n",
    "# Assuming \"series\" is your pandas Series\n",
    "percentage_late_by_day.index = percentage_late_by_day.index.to_series().replace(days_of_week)\n",
    "percentage_late_by_day"
   ]
  },
  {
   "cell_type": "code",
   "execution_count": 77,
   "metadata": {},
   "outputs": [
    {
     "data": {
      "image/png": "[encoded data removed]",
      "text/plain": [
       "<Figure size 432x288 with 1 Axes>"
      ]
     },
     "metadata": {
      "needs_background": "light"
     },
     "output_type": "display_data"
    }
   ],
   "source": [
    "sns.barplot(x='DELIVERY_DAY_OF_WEEK', y='LATE_DELIVERY', data=cols_of_interest, ci=None)\n",
    "plt.xlabel('Day of Week')\n",
    "plt.ylabel('Average Late Delivery')\n",
    "plt.ylim(0.3,0.4) # limit to 10% in which all are contained\n",
    "plt.show()"
   ]
  },
  {
   "cell_type": "markdown",
   "metadata": {},
   "source": [
    "# Feature 5. Collection Day of the Week\n",
    "\n",
    "Collection date has a different level in lateness. Saturday collections are some of the lowest levels of lateness, and Sunday some of the highest (as they lead into the busy start of the week perhaps?)"
   ]
  },
  {
   "cell_type": "code",
   "execution_count": 78,
   "metadata": {},
   "outputs": [
    {
     "data": {
      "text/plain": [
       "COLLECTION_DAY_OF_WEEK\n",
       "Monday       37.52\n",
       "Tuesday      39.31\n",
       "Wednesday    35.74\n",
       "Thursday     38.15\n",
       "Friday       36.86\n",
       "Saturday     34.95\n",
       "Sunday       38.13\n",
       "Name: LATE_DELIVERY, dtype: float64"
      ]
     },
     "execution_count": 78,
     "metadata": {},
     "output_type": "execute_result"
    }
   ],
   "source": [
    "# Group by 'COLLECTION_DAY_OF_WEEK' and calculate the mean of 'LATE_DELIVERY'\n",
    "percentage_late_collection_day = cols_of_interest.groupby('COLLECTION_DAY_OF_WEEK')['LATE_DELIVERY'].mean()\n",
    "\n",
    "# Convert to percentage\n",
    "percentage_late_collection_day = round(percentage_late_collection_day * 100,2)\n",
    "\n",
    "# set index\n",
    "days_of_week = {0: 'Monday', 1: 'Tuesday', 2: 'Wednesday', 3: 'Thursday', 4: 'Friday', 5: 'Saturday', 6: 'Sunday'}\n",
    "\n",
    "# Assuming \"series\" is your pandas Series\n",
    "percentage_late_collection_day.index = percentage_late_collection_day.index.to_series().replace(days_of_week)\n",
    "percentage_late_collection_day"
   ]
  },
  {
   "cell_type": "code",
   "execution_count": 79,
   "metadata": {},
   "outputs": [
    {
     "data": {
      "image/png": "[encoded data removed]",
      "text/plain": [
       "<Figure size 432x288 with 1 Axes>"
      ]
     },
     "metadata": {
      "needs_background": "light"
     },
     "output_type": "display_data"
    }
   ],
   "source": [
    "sns.barplot(x='COLLECTION_DAY_OF_WEEK', y='LATE_DELIVERY', data=cols_of_interest, ci=None)\n",
    "plt.xlabel('Day of Week')\n",
    "plt.ylabel('Average Late Delivery')\n",
    "plt.ylim(0.3,0.4) # limit to 10% in which all are contained\n",
    "plt.show()"
   ]
  },
  {
   "cell_type": "markdown",
   "metadata": {},
   "source": [
    "# Bonus Points:\n",
    "\n",
    "### a. Google Best Code Practices have been employed where appropriate.\n",
    "\n",
    "### b. Technical Design for deploying prediction model through an online endpoint:\n",
    "    \n",
    "Here's a high-level outline of the technical design:\n",
    "\n",
    "1. Model Serialization: Once the model is trained and validated, we need to serialize the model into a format that can be stored and loaded easily. In Python, we can use libraries like pickle or joblib to do this.\n",
    "\n",
    "e.g.:\n",
    "```\n",
    "import joblib\n",
    "joblib.dump(your_model, 'model.pkl')\n",
    "```\n",
    "\n",
    "2. Building a Web Service: Create a web service that can receive API requests, load the serialized model, run the prediction, and return the results. This can be done using web frameworks like Flask or Django in Python. The endpoint could accept shipment details and return a prediction of whether the shipment will be late.\n",
    "\n",
    "```\n",
    "from flask import Flask, request\n",
    "import joblib\n",
    "\n",
    "app = Flask(__name__)\n",
    "model = joblib.load('shipment_model.pkl')\n",
    "\n",
    "@app.route('/predict', methods=['POST'])\n",
    "def predict():\n",
    "    data = request.json\n",
    "    prediction = model.predict(data)\n",
    "    return {'late_shipment_prediction': prediction.tolist()}\n",
    "\n",
    "if __name__ == '__main__':\n",
    "    app.run(port=5000)\n",
    "\n",
    "```\n",
    "3. Containerization: For easier deployment and scalability, We can containerize our application using Docker. This involves writing a Dockerfile that specifies the base image, dependencies, and commands to run our application.\n",
    "\n",
    "4. Deployment: Deploy the container to a cloud service provider. We can use services like AWS Elastic Beanstalk, Google Cloud Run, or Azure App Service. These services can automatically manage, scale, and load balance our application.\n",
    "\n",
    "5. Testing: Once deployed, test the endpoint with sample shipment data to ensure it's working as expected.\n",
    "\n",
    "6. Monitoring and Updating: After deployment, the model needs to be monitored to ensure it's performing as expected. If the model's performance drops, or if there's new data available, the model might need to be retrained and the web service updated.\n",
    "\n",
    "This system would allow the haulier company to easily get predictions on whether shipments will be late, helping them better manage their operations and communicate with their customers."
   ]
  },
  {
   "cell_type": "markdown",
   "metadata": {},
   "source": [
    "### c. Utilise additional data sources by making API calls.\n",
    "\n",
    "Ideas:\n",
    "- Weather data to show historical weather data for collection and delivery post codes. OpenWeatherMap: (https://openweathermap.org/api)\n",
    "- Traffic data (WebTRIS API: This free API provides traffic data for the UK motorway network, including incidents, roadworks, and average speeds. [WebTRIS API highways england ON webtris.highwaysengland.co.uk])\n",
    "- Population density info to show if a postcode is urban or rural and therefore could affect traffic and speed of deliveries. OpenStreetMap Nominatim API: (https://nominatim.org/release-docs/latest/api/Overview/)"
   ]
  }
 ],
 "metadata": {
  "kernelspec": {
   "display_name": "Python 3",
   "language": "python",
   "name": "python3"
  },
  "language_info": {
   "codemirror_mode": {
    "name": "ipython",
    "version": 3
   },
   "file_extension": ".py",
   "mimetype": "text/x-python",
   "name": "python",
   "nbconvert_exporter": "python",
   "pygments_lexer": "ipython3",
   "version": "3.9.12"
  }
 },
 "nbformat": 4,
 "nbformat_minor": 2
}
